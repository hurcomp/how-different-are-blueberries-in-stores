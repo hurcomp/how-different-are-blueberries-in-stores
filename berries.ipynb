{
 "cells": [
  {
   "cell_type": "markdown",
   "metadata": {
    "collapsed": true,
    "pycharm": {
     "name": "#%% md\n"
    }
   },
   "source": [
    "# How different are blueberries in stores?\n",
    "\n",
    "<i>Hanna & Denis</i>\n",
    "\n",
    "Highbush blueberries (berries in this notebook) are a common type of berries often sold in Finnish supermarkets. These berries are grown on the farms, packed and brought to the store by the berry’s provider. The goal of this project is to get insights on how berries are handled. For example, are berries always collected when they reach a certain size? Does the provider distribute berries of the same size to all of the stores? How long does a batch of berries stay in the store? We aim at getting insights on these questions with statistical methods.\n",
    "\n",
    "We found that berries from the same store on consecutive weeks are drawn from the same distribution. Berries from the same store on not consecutive weeks are from different distributions and berries from different stores are also drawn from different distributions.\n",
    "It seems that the provider brings berries once in a few weeks to the same store. It also seems that the provider does not only pick berries of the same size.\n",
    "\n",
    "We bought 4 packs of (berries) from the same provider in 2 supermarkets on different Sundays (2021) (we did not save the expiration date of packs):\n",
    "* Pack 1 on March 7 from store 1\n",
    "* Pack 2 on March 14 from store 2\n",
    "* Pack 3 on March 21 from store 2\n",
    "* Pack 4 on April 4 from store 1\n",
    "\n",
    "We measured the diameter of each berry in each pack and saved them into csv files. The goal of this notebook is to find out whether there is a statistically significant difference between diameters of berries from different stores. We use diameters as a measure of berry size. The measurement have been done by the same person with the same ruler.\n",
    "\n",
    "The outline of the notebook is as follows:\n",
    "1. [Loading data](#loading)\n",
    "2. [Investigating data](#investigating)\n",
    "3. [Checking variances](#variances)\n",
    "4. [Checking equal mean](#anova)\n",
    "5. [Pairwise comparisons](#ttest)\n",
    "6. [Limitations](#limitations)\n",
    "7. [Conclusion and discussion](#conclusion)"
   ]
  },
  {
   "cell_type": "code",
   "execution_count": 1,
   "metadata": {
    "pycharm": {
     "name": "#%%\n"
    }
   },
   "outputs": [],
   "source": [
    "#import\n",
    "import pandas as pd\n",
    "import seaborn as sns\n",
    "import matplotlib.pyplot as plt\n",
    "from scipy import stats\n",
    "import numpy as np"
   ]
  },
  {
   "cell_type": "markdown",
   "metadata": {
    "pycharm": {
     "name": "#%% md\n"
    }
   },
   "source": [
    "<a id=\"loading\"></a>\n",
    "## Loading data"
   ]
  },
  {
   "cell_type": "code",
   "execution_count": 2,
   "metadata": {
    "pycharm": {
     "name": "#%%\n"
    }
   },
   "outputs": [
    {
     "data": {
      "text/html": [
       "<div>\n",
       "<style scoped>\n",
       "    .dataframe tbody tr th:only-of-type {\n",
       "        vertical-align: middle;\n",
       "    }\n",
       "\n",
       "    .dataframe tbody tr th {\n",
       "        vertical-align: top;\n",
       "    }\n",
       "\n",
       "    .dataframe thead th {\n",
       "        text-align: right;\n",
       "    }\n",
       "</style>\n",
       "<table border=\"1\" class=\"dataframe\">\n",
       "  <thead>\n",
       "    <tr style=\"text-align: right;\">\n",
       "      <th></th>\n",
       "      <th>diameter</th>\n",
       "    </tr>\n",
       "  </thead>\n",
       "  <tbody>\n",
       "    <tr>\n",
       "      <th>0</th>\n",
       "      <td>1.8</td>\n",
       "    </tr>\n",
       "    <tr>\n",
       "      <th>1</th>\n",
       "      <td>1.6</td>\n",
       "    </tr>\n",
       "    <tr>\n",
       "      <th>2</th>\n",
       "      <td>1.8</td>\n",
       "    </tr>\n",
       "    <tr>\n",
       "      <th>3</th>\n",
       "      <td>1.8</td>\n",
       "    </tr>\n",
       "    <tr>\n",
       "      <th>4</th>\n",
       "      <td>1.7</td>\n",
       "    </tr>\n",
       "  </tbody>\n",
       "</table>\n",
       "</div>"
      ],
      "text/plain": [
       "   diameter\n",
       "0       1.8\n",
       "1       1.6\n",
       "2       1.8\n",
       "3       1.8\n",
       "4       1.7"
      ]
     },
     "execution_count": 2,
     "metadata": {},
     "output_type": "execute_result"
    }
   ],
   "source": [
    "week1store1 = pd.read_csv(\"March7Store1.csv\")\n",
    "week1store1.head()"
   ]
  },
  {
   "cell_type": "code",
   "execution_count": 3,
   "metadata": {
    "pycharm": {
     "name": "#%%\n"
    }
   },
   "outputs": [
    {
     "data": {
      "text/html": [
       "<div>\n",
       "<style scoped>\n",
       "    .dataframe tbody tr th:only-of-type {\n",
       "        vertical-align: middle;\n",
       "    }\n",
       "\n",
       "    .dataframe tbody tr th {\n",
       "        vertical-align: top;\n",
       "    }\n",
       "\n",
       "    .dataframe thead th {\n",
       "        text-align: right;\n",
       "    }\n",
       "</style>\n",
       "<table border=\"1\" class=\"dataframe\">\n",
       "  <thead>\n",
       "    <tr style=\"text-align: right;\">\n",
       "      <th></th>\n",
       "      <th>diameter</th>\n",
       "    </tr>\n",
       "  </thead>\n",
       "  <tbody>\n",
       "    <tr>\n",
       "      <th>0</th>\n",
       "      <td>1.70</td>\n",
       "    </tr>\n",
       "    <tr>\n",
       "      <th>1</th>\n",
       "      <td>1.60</td>\n",
       "    </tr>\n",
       "    <tr>\n",
       "      <th>2</th>\n",
       "      <td>1.70</td>\n",
       "    </tr>\n",
       "    <tr>\n",
       "      <th>3</th>\n",
       "      <td>1.30</td>\n",
       "    </tr>\n",
       "    <tr>\n",
       "      <th>4</th>\n",
       "      <td>1.45</td>\n",
       "    </tr>\n",
       "  </tbody>\n",
       "</table>\n",
       "</div>"
      ],
      "text/plain": [
       "   diameter\n",
       "0      1.70\n",
       "1      1.60\n",
       "2      1.70\n",
       "3      1.30\n",
       "4      1.45"
      ]
     },
     "execution_count": 3,
     "metadata": {},
     "output_type": "execute_result"
    }
   ],
   "source": [
    "week2store2 = pd.read_csv(\"March14Store2.csv\")\n",
    "week2store2.head()"
   ]
  },
  {
   "cell_type": "code",
   "execution_count": 4,
   "metadata": {
    "pycharm": {
     "name": "#%%\n"
    }
   },
   "outputs": [
    {
     "data": {
      "text/html": [
       "<div>\n",
       "<style scoped>\n",
       "    .dataframe tbody tr th:only-of-type {\n",
       "        vertical-align: middle;\n",
       "    }\n",
       "\n",
       "    .dataframe tbody tr th {\n",
       "        vertical-align: top;\n",
       "    }\n",
       "\n",
       "    .dataframe thead th {\n",
       "        text-align: right;\n",
       "    }\n",
       "</style>\n",
       "<table border=\"1\" class=\"dataframe\">\n",
       "  <thead>\n",
       "    <tr style=\"text-align: right;\">\n",
       "      <th></th>\n",
       "      <th>diameter</th>\n",
       "    </tr>\n",
       "  </thead>\n",
       "  <tbody>\n",
       "    <tr>\n",
       "      <th>0</th>\n",
       "      <td>1.3</td>\n",
       "    </tr>\n",
       "    <tr>\n",
       "      <th>1</th>\n",
       "      <td>1.4</td>\n",
       "    </tr>\n",
       "    <tr>\n",
       "      <th>2</th>\n",
       "      <td>1.4</td>\n",
       "    </tr>\n",
       "    <tr>\n",
       "      <th>3</th>\n",
       "      <td>1.4</td>\n",
       "    </tr>\n",
       "    <tr>\n",
       "      <th>4</th>\n",
       "      <td>1.4</td>\n",
       "    </tr>\n",
       "  </tbody>\n",
       "</table>\n",
       "</div>"
      ],
      "text/plain": [
       "   diameter\n",
       "0       1.3\n",
       "1       1.4\n",
       "2       1.4\n",
       "3       1.4\n",
       "4       1.4"
      ]
     },
     "execution_count": 4,
     "metadata": {},
     "output_type": "execute_result"
    }
   ],
   "source": [
    "week3store2 = pd.read_csv(\"March21Store2.csv\")\n",
    "week3store2.head()"
   ]
  },
  {
   "cell_type": "code",
   "execution_count": 5,
   "metadata": {
    "pycharm": {
     "name": "#%%\n"
    }
   },
   "outputs": [
    {
     "data": {
      "text/html": [
       "<div>\n",
       "<style scoped>\n",
       "    .dataframe tbody tr th:only-of-type {\n",
       "        vertical-align: middle;\n",
       "    }\n",
       "\n",
       "    .dataframe tbody tr th {\n",
       "        vertical-align: top;\n",
       "    }\n",
       "\n",
       "    .dataframe thead th {\n",
       "        text-align: right;\n",
       "    }\n",
       "</style>\n",
       "<table border=\"1\" class=\"dataframe\">\n",
       "  <thead>\n",
       "    <tr style=\"text-align: right;\">\n",
       "      <th></th>\n",
       "      <th>diameter</th>\n",
       "    </tr>\n",
       "  </thead>\n",
       "  <tbody>\n",
       "    <tr>\n",
       "      <th>0</th>\n",
       "      <td>1.30</td>\n",
       "    </tr>\n",
       "    <tr>\n",
       "      <th>1</th>\n",
       "      <td>1.20</td>\n",
       "    </tr>\n",
       "    <tr>\n",
       "      <th>2</th>\n",
       "      <td>1.20</td>\n",
       "    </tr>\n",
       "    <tr>\n",
       "      <th>3</th>\n",
       "      <td>1.30</td>\n",
       "    </tr>\n",
       "    <tr>\n",
       "      <th>4</th>\n",
       "      <td>1.35</td>\n",
       "    </tr>\n",
       "  </tbody>\n",
       "</table>\n",
       "</div>"
      ],
      "text/plain": [
       "   diameter\n",
       "0      1.30\n",
       "1      1.20\n",
       "2      1.20\n",
       "3      1.30\n",
       "4      1.35"
      ]
     },
     "execution_count": 5,
     "metadata": {},
     "output_type": "execute_result"
    }
   ],
   "source": [
    "week4store1 = pd.read_csv(\"April4Store1.csv\")\n",
    "week4store1.head()"
   ]
  },
  {
   "cell_type": "markdown",
   "metadata": {
    "pycharm": {
     "name": "#%% md\n"
    }
   },
   "source": [
    "<a id=\"investigating\"></a>\n",
    "## Investigating data"
   ]
  },
  {
   "cell_type": "code",
   "execution_count": 6,
   "metadata": {
    "pycharm": {
     "name": "#%%\n"
    }
   },
   "outputs": [
    {
     "data": {
      "text/html": [
       "<div>\n",
       "<style scoped>\n",
       "    .dataframe tbody tr th:only-of-type {\n",
       "        vertical-align: middle;\n",
       "    }\n",
       "\n",
       "    .dataframe tbody tr th {\n",
       "        vertical-align: top;\n",
       "    }\n",
       "\n",
       "    .dataframe thead th {\n",
       "        text-align: right;\n",
       "    }\n",
       "</style>\n",
       "<table border=\"1\" class=\"dataframe\">\n",
       "  <thead>\n",
       "    <tr style=\"text-align: right;\">\n",
       "      <th></th>\n",
       "      <th>diameter</th>\n",
       "    </tr>\n",
       "  </thead>\n",
       "  <tbody>\n",
       "    <tr>\n",
       "      <th>count</th>\n",
       "      <td>65.000000</td>\n",
       "    </tr>\n",
       "    <tr>\n",
       "      <th>mean</th>\n",
       "      <td>1.505385</td>\n",
       "    </tr>\n",
       "    <tr>\n",
       "      <th>std</th>\n",
       "      <td>0.123150</td>\n",
       "    </tr>\n",
       "    <tr>\n",
       "      <th>min</th>\n",
       "      <td>1.200000</td>\n",
       "    </tr>\n",
       "    <tr>\n",
       "      <th>25%</th>\n",
       "      <td>1.400000</td>\n",
       "    </tr>\n",
       "    <tr>\n",
       "      <th>50%</th>\n",
       "      <td>1.500000</td>\n",
       "    </tr>\n",
       "    <tr>\n",
       "      <th>75%</th>\n",
       "      <td>1.600000</td>\n",
       "    </tr>\n",
       "    <tr>\n",
       "      <th>max</th>\n",
       "      <td>1.800000</td>\n",
       "    </tr>\n",
       "  </tbody>\n",
       "</table>\n",
       "</div>"
      ],
      "text/plain": [
       "        diameter\n",
       "count  65.000000\n",
       "mean    1.505385\n",
       "std     0.123150\n",
       "min     1.200000\n",
       "25%     1.400000\n",
       "50%     1.500000\n",
       "75%     1.600000\n",
       "max     1.800000"
      ]
     },
     "execution_count": 6,
     "metadata": {},
     "output_type": "execute_result"
    }
   ],
   "source": [
    "week1store1.describe()"
   ]
  },
  {
   "cell_type": "code",
   "execution_count": 7,
   "metadata": {
    "pycharm": {
     "name": "#%%\n"
    }
   },
   "outputs": [
    {
     "data": {
      "image/png": "[encoded data removed]",
      "text/plain": [
       "<Figure size 360x288 with 1 Axes>"
      ]
     },
     "metadata": {
      "needs_background": "light"
     },
     "output_type": "display_data"
    }
   ],
   "source": [
    "def get_ax():\n",
    "    plt.subplots(figsize=(5, 4))[1]\n",
    "\n",
    "def draw_chart(ax, x_label, y_label, title, angle = 0):\n",
    "    ax.set_xlabel(x_label ,fontsize=10)\n",
    "    ax.set_ylabel(y_label ,fontsize=10)\n",
    "    ax.tick_params(labelsize=10)\n",
    "    ax.set_title(title)\n",
    "    plt.xticks(rotation=angle)\n",
    "    plt.tight_layout()\n",
    "ax = get_ax()\n",
    "ax = sns.histplot(week1store1.diameter, kde=True, ax=ax)\n",
    "draw_chart(ax, \"diameter\", \"count\", \"Week 1, Store 1\")"
   ]
  },
  {
   "cell_type": "code",
   "execution_count": 8,
   "metadata": {
    "pycharm": {
     "name": "#%%\n"
    }
   },
   "outputs": [
    {
     "data": {
      "text/html": [
       "<div>\n",
       "<style scoped>\n",
       "    .dataframe tbody tr th:only-of-type {\n",
       "        vertical-align: middle;\n",
       "    }\n",
       "\n",
       "    .dataframe tbody tr th {\n",
       "        vertical-align: top;\n",
       "    }\n",
       "\n",
       "    .dataframe thead th {\n",
       "        text-align: right;\n",
       "    }\n",
       "</style>\n",
       "<table border=\"1\" class=\"dataframe\">\n",
       "  <thead>\n",
       "    <tr style=\"text-align: right;\">\n",
       "      <th></th>\n",
       "      <th>diameter</th>\n",
       "    </tr>\n",
       "  </thead>\n",
       "  <tbody>\n",
       "    <tr>\n",
       "      <th>count</th>\n",
       "      <td>75.000000</td>\n",
       "    </tr>\n",
       "    <tr>\n",
       "      <th>mean</th>\n",
       "      <td>1.413333</td>\n",
       "    </tr>\n",
       "    <tr>\n",
       "      <th>std</th>\n",
       "      <td>0.130055</td>\n",
       "    </tr>\n",
       "    <tr>\n",
       "      <th>min</th>\n",
       "      <td>1.100000</td>\n",
       "    </tr>\n",
       "    <tr>\n",
       "      <th>25%</th>\n",
       "      <td>1.300000</td>\n",
       "    </tr>\n",
       "    <tr>\n",
       "      <th>50%</th>\n",
       "      <td>1.400000</td>\n",
       "    </tr>\n",
       "    <tr>\n",
       "      <th>75%</th>\n",
       "      <td>1.500000</td>\n",
       "    </tr>\n",
       "    <tr>\n",
       "      <th>max</th>\n",
       "      <td>1.700000</td>\n",
       "    </tr>\n",
       "  </tbody>\n",
       "</table>\n",
       "</div>"
      ],
      "text/plain": [
       "        diameter\n",
       "count  75.000000\n",
       "mean    1.413333\n",
       "std     0.130055\n",
       "min     1.100000\n",
       "25%     1.300000\n",
       "50%     1.400000\n",
       "75%     1.500000\n",
       "max     1.700000"
      ]
     },
     "execution_count": 8,
     "metadata": {},
     "output_type": "execute_result"
    }
   ],
   "source": [
    "week2store2.describe()"
   ]
  },
  {
   "cell_type": "code",
   "execution_count": 9,
   "metadata": {
    "pycharm": {
     "name": "#%%\n"
    }
   },
   "outputs": [
    {
     "data": {
      "image/png": "[encoded data removed]",
      "text/plain": [
       "<Figure size 360x288 with 1 Axes>"
      ]
     },
     "metadata": {
      "needs_background": "light"
     },
     "output_type": "display_data"
    }
   ],
   "source": [
    "ax = get_ax()\n",
    "ax = sns.histplot(week2store2.diameter, kde=True, ax=ax)\n",
    "draw_chart(ax, \"diameter\", \"count\", \"Week 2, Store 2\")"
   ]
  },
  {
   "cell_type": "code",
   "execution_count": 10,
   "metadata": {
    "pycharm": {
     "name": "#%%\n"
    }
   },
   "outputs": [
    {
     "data": {
      "text/html": [
       "<div>\n",
       "<style scoped>\n",
       "    .dataframe tbody tr th:only-of-type {\n",
       "        vertical-align: middle;\n",
       "    }\n",
       "\n",
       "    .dataframe tbody tr th {\n",
       "        vertical-align: top;\n",
       "    }\n",
       "\n",
       "    .dataframe thead th {\n",
       "        text-align: right;\n",
       "    }\n",
       "</style>\n",
       "<table border=\"1\" class=\"dataframe\">\n",
       "  <thead>\n",
       "    <tr style=\"text-align: right;\">\n",
       "      <th></th>\n",
       "      <th>diameter</th>\n",
       "    </tr>\n",
       "  </thead>\n",
       "  <tbody>\n",
       "    <tr>\n",
       "      <th>count</th>\n",
       "      <td>87.000000</td>\n",
       "    </tr>\n",
       "    <tr>\n",
       "      <th>mean</th>\n",
       "      <td>1.378736</td>\n",
       "    </tr>\n",
       "    <tr>\n",
       "      <th>std</th>\n",
       "      <td>0.101910</td>\n",
       "    </tr>\n",
       "    <tr>\n",
       "      <th>min</th>\n",
       "      <td>1.200000</td>\n",
       "    </tr>\n",
       "    <tr>\n",
       "      <th>25%</th>\n",
       "      <td>1.300000</td>\n",
       "    </tr>\n",
       "    <tr>\n",
       "      <th>50%</th>\n",
       "      <td>1.400000</td>\n",
       "    </tr>\n",
       "    <tr>\n",
       "      <th>75%</th>\n",
       "      <td>1.450000</td>\n",
       "    </tr>\n",
       "    <tr>\n",
       "      <th>max</th>\n",
       "      <td>1.600000</td>\n",
       "    </tr>\n",
       "  </tbody>\n",
       "</table>\n",
       "</div>"
      ],
      "text/plain": [
       "        diameter\n",
       "count  87.000000\n",
       "mean    1.378736\n",
       "std     0.101910\n",
       "min     1.200000\n",
       "25%     1.300000\n",
       "50%     1.400000\n",
       "75%     1.450000\n",
       "max     1.600000"
      ]
     },
     "execution_count": 10,
     "metadata": {},
     "output_type": "execute_result"
    }
   ],
   "source": [
    "week3store2.describe()"
   ]
  },
  {
   "cell_type": "code",
   "execution_count": 11,
   "metadata": {
    "pycharm": {
     "name": "#%%\n"
    }
   },
   "outputs": [
    {
     "data": {
      "image/png": "[encoded data removed]",
      "text/plain": [
       "<Figure size 360x288 with 1 Axes>"
      ]
     },
     "metadata": {
      "needs_background": "light"
     },
     "output_type": "display_data"
    }
   ],
   "source": [
    "ax = get_ax()\n",
    "ax = sns.histplot(week3store2.diameter, kde=True, ax=ax)\n",
    "draw_chart(ax, \"diameter\", \"count\", \"Week 3, Store 2\")"
   ]
  },
  {
   "cell_type": "code",
   "execution_count": 12,
   "metadata": {
    "pycharm": {
     "name": "#%%\n"
    }
   },
   "outputs": [
    {
     "data": {
      "text/html": [
       "<div>\n",
       "<style scoped>\n",
       "    .dataframe tbody tr th:only-of-type {\n",
       "        vertical-align: middle;\n",
       "    }\n",
       "\n",
       "    .dataframe tbody tr th {\n",
       "        vertical-align: top;\n",
       "    }\n",
       "\n",
       "    .dataframe thead th {\n",
       "        text-align: right;\n",
       "    }\n",
       "</style>\n",
       "<table border=\"1\" class=\"dataframe\">\n",
       "  <thead>\n",
       "    <tr style=\"text-align: right;\">\n",
       "      <th></th>\n",
       "      <th>diameter</th>\n",
       "    </tr>\n",
       "  </thead>\n",
       "  <tbody>\n",
       "    <tr>\n",
       "      <th>count</th>\n",
       "      <td>104.000000</td>\n",
       "    </tr>\n",
       "    <tr>\n",
       "      <th>mean</th>\n",
       "      <td>1.260096</td>\n",
       "    </tr>\n",
       "    <tr>\n",
       "      <th>std</th>\n",
       "      <td>0.099849</td>\n",
       "    </tr>\n",
       "    <tr>\n",
       "      <th>min</th>\n",
       "      <td>1.000000</td>\n",
       "    </tr>\n",
       "    <tr>\n",
       "      <th>25%</th>\n",
       "      <td>1.200000</td>\n",
       "    </tr>\n",
       "    <tr>\n",
       "      <th>50%</th>\n",
       "      <td>1.300000</td>\n",
       "    </tr>\n",
       "    <tr>\n",
       "      <th>75%</th>\n",
       "      <td>1.300000</td>\n",
       "    </tr>\n",
       "    <tr>\n",
       "      <th>max</th>\n",
       "      <td>1.500000</td>\n",
       "    </tr>\n",
       "  </tbody>\n",
       "</table>\n",
       "</div>"
      ],
      "text/plain": [
       "         diameter\n",
       "count  104.000000\n",
       "mean     1.260096\n",
       "std      0.099849\n",
       "min      1.000000\n",
       "25%      1.200000\n",
       "50%      1.300000\n",
       "75%      1.300000\n",
       "max      1.500000"
      ]
     },
     "execution_count": 12,
     "metadata": {},
     "output_type": "execute_result"
    }
   ],
   "source": [
    "week4store1.describe()"
   ]
  },
  {
   "cell_type": "code",
   "execution_count": 13,
   "metadata": {
    "pycharm": {
     "name": "#%%\n"
    }
   },
   "outputs": [
    {
     "data": {
      "image/png": "[encoded data removed]",
      "text/plain": [
       "<Figure size 360x288 with 1 Axes>"
      ]
     },
     "metadata": {
      "needs_background": "light"
     },
     "output_type": "display_data"
    }
   ],
   "source": [
    "ax = get_ax()\n",
    "ax = sns.histplot(week4store1.diameter, kde=True, ax=ax)\n",
    "draw_chart(ax, \"diameter\", \"count\", \"Week 3, Store 1\")"
   ]
  },
  {
   "cell_type": "markdown",
   "metadata": {
    "pycharm": {
     "name": "#%% md\n"
    }
   },
   "source": [
    "Our samples have slightly different numbers of observations. Each sample’s distribution looks normal. We also assume that berry diameter is distributed normally in each population of berries, as it is a common pattern in nature."
   ]
  },
  {
   "cell_type": "markdown",
   "metadata": {
    "pycharm": {
     "name": "#%% md\n"
    }
   },
   "source": [
    "<a id=\"variances\"></a>\n",
    "## Checking variances\n",
    "To answer the question, whether all our samples have been taken from populations with the same diameter, we need to run statistical tests. To choose the right tests, we need to find out if populations of our samples have the same variances. For this purpose, we will use Levene's test. The null hypothesis of this test is that all input samples are from populations with equal variances. For this and the following tests, we set our significance level at 0.05. After we have run all the tests in this notebook, we corrected our p-values according to Bonferroni correction, but this correction has not affected our findings."
   ]
  },
  {
   "cell_type": "code",
   "execution_count": 14,
   "metadata": {
    "pycharm": {
     "name": "#%%\n"
    }
   },
   "outputs": [
    {
     "data": {
      "text/plain": [
       "LeveneResult(statistic=1.14980349754199, pvalue=0.3290811702336802)"
      ]
     },
     "execution_count": 14,
     "metadata": {},
     "output_type": "execute_result"
    }
   ],
   "source": [
    "stats.levene(week1store1.diameter,\n",
    "               week2store2.diameter,\n",
    "               week3store2.diameter,\n",
    "               week4store1.diameter,\n",
    "               center=\"mean\")"
   ]
  },
  {
   "cell_type": "markdown",
   "metadata": {
    "pycharm": {
     "name": "#%% md\n"
    }
   },
   "source": [
    "The p-value is higher than our significance level, which means that we cannot reject the null hypothesis that the variances of samples' populations are equal. This allows us to use t-test and ANOVA test."
   ]
  },
  {
   "cell_type": "markdown",
   "metadata": {},
   "source": [
    "<a id=\"anova\"></a>\n",
    "## Checking equal mean\n",
    "To check the equality of mean diameters, we will use ANOVA test, which has the following assumptions:\n",
    "1. Each group sample is drawn from a normally distributed population. <i>We assume that diameter of berries is normally distributed</i>\n",
    "2. All populations have a common variance. <i>We checked this with Levene's test</i>\n",
    "3. All samples are drawn independently of each other. <i>We assume that is true for our samples</i>\n",
    "4. Within each sample, the observations are sampled randomly and independently of each other. <i>We assume that this is also true</i>\n",
    "\n",
    "Our samples meet all the assumptions of this test. The null hypothesis of ANOVA test is that samples have the same mean."
   ]
  },
  {
   "cell_type": "code",
   "execution_count": 15,
   "metadata": {
    "pycharm": {
     "name": "#%%\n"
    }
   },
   "outputs": [
    {
     "data": {
      "text/plain": [
       "F_onewayResult(statistic=68.13396664365565, pvalue=2.9972006778079626e-34)"
      ]
     },
     "execution_count": 15,
     "metadata": {},
     "output_type": "execute_result"
    }
   ],
   "source": [
    "stats.f_oneway(week1store1.diameter,\n",
    "               week2store2.diameter,\n",
    "               week3store2.diameter,\n",
    "               week4store1.diameter)"
   ]
  },
  {
   "cell_type": "markdown",
   "metadata": {
    "pycharm": {
     "name": "#%% md\n"
    }
   },
   "source": [
    "Based on our significance level, we can reject the null hypothesis that the means are equal. This suggests that at least two samples are drawn from distributions with different mean diameter."
   ]
  },
  {
   "cell_type": "markdown",
   "metadata": {},
   "source": [
    "<a id=\"ttest\"></a>\n",
    "## Pairwise comparisons\n",
    "To find out which pair of samples has different populations’ diameters, we will compare pairs with t-tests, which have the following assumptions:\n",
    "1. Equal sample variances\n",
    "2. Independence of observations\n",
    "3. The means of samples are distributed normally\n",
    "\n",
    "Our samples satisfy all the assumptions. The null hypothesis of t-test is that distributions of two samples have the same mean values."
   ]
  },
  {
   "cell_type": "code",
   "execution_count": 16,
   "metadata": {
    "pycharm": {
     "name": "#%%\n"
    }
   },
   "outputs": [],
   "source": [
    "# dataset preparation\n",
    "datasets = [{\"name\":\"week1store1\", \"data\":week1store1},\n",
    "            {\"name\":\"week2store2\", \"data\":week2store2},\n",
    "            {\"name\":\"week3store2\", \"data\":week3store2},\n",
    "            {\"name\":\"week4store1\", \"data\":week4store1}]"
   ]
  },
  {
   "cell_type": "code",
   "execution_count": 17,
   "metadata": {
    "pycharm": {
     "name": "#%%\n"
    }
   },
   "outputs": [
    {
     "name": "stdout",
     "output_type": "stream",
     "text": [
      "week1store1(mean: 1.505) vs week2store2(mean: 1.413)\n",
      "Difference of mean values: 0.092\n",
      "p-value 3.4675860712329753e-05\n",
      "---\n",
      "week1store1(mean: 1.505) vs week3store2(mean: 1.379)\n",
      "Difference of mean values: 0.127\n",
      "p-value 1.1606727124318234e-10\n",
      "---\n",
      "week1store1(mean: 1.505) vs week4store1(mean: 1.260)\n",
      "Difference of mean values: 0.245\n",
      "p-value 1.7672349308360325e-30\n",
      "---\n",
      "week2store2(mean: 1.413) vs week3store2(mean: 1.379)\n",
      "Difference of mean values: 0.035\n",
      "p-value 0.05970146487707474\n",
      "---\n",
      "week2store2(mean: 1.413) vs week4store1(mean: 1.260)\n",
      "Difference of mean values: 0.153\n",
      "p-value 5.89157936281648e-16\n",
      "---\n",
      "week3store2(mean: 1.379) vs week4store1(mean: 1.260)\n",
      "Difference of mean values: 0.119\n",
      "p-value 6.574354838902983e-14\n",
      "---\n"
     ]
    }
   ],
   "source": [
    "# pairwise comparisons\n",
    "for i in range(4):\n",
    "    for j in range(i + 1, 4):\n",
    "        data1 = datasets[i]\n",
    "        data2 = datasets[j]\n",
    "        diameter1 = data1[\"data\"][\"diameter\"]\n",
    "        diameter2 = data2[\"data\"][\"diameter\"]\n",
    "        print(f'{data1[\"name\"]}(mean: {diameter1.mean():.3f}) vs {data2[\"name\"]}(mean: {diameter2.mean():.3f})')\n",
    "        print(f\"Difference of mean values: {np.abs(diameter1.mean() - diameter2.mean()):.3f}\")\n",
    "        res = stats.ttest_ind(diameter1, diameter2, equal_var=True)\n",
    "        print(\"p-value\", res[1])\n",
    "        print(\"---\")"
   ]
  },
  {
   "cell_type": "markdown",
   "metadata": {
    "pycharm": {
     "name": "#%% md\n"
    }
   },
   "source": [
    "Based on test results, we have enough evidence to reject the null hypothesis for all of the pairs except for the samples bought on consecutive weeks from store 2 (week2store2 vs week3store2)."
   ]
  },
  {
   "cell_type": "markdown",
   "metadata": {},
   "source": [
    "<a id=\"limitations\"></a>\n",
    "## Limitations\n",
    "\n",
    "This study has a number of limitations. For example, we examined berry diameters only within a limited timeframe. The same study conducted in a different timeframe might result in different conclusions. We also measured only 4 samples of berries and measured only diameters of berries. Other samples and berry parameters might change the conclusions. "
   ]
  },
  {
   "cell_type": "markdown",
   "metadata": {},
   "source": [
    "<a id=\"conclusion\"></a>\n",
    "## Conclusion and discussion\n",
    "Our results suggest that only berries bought on consecutive weeks from store 2 seem to be drawn from the same population. Samples of berries bought on non-consecutive weeks or from different stores are drawn from different populations.\n",
    "\n",
    "In this paragraph, we speculate what might cause the observed results. It seems that the berry provider distributes berries from different populations to different stores. It also seems that the stores either keep the same berries for up to two weeks or the provider brings berries from the same population to the same store for up to two weeks. Our idea that berries are collected only when they reach a certain size does not seem to hold.\n"
   ]
  }
 ],
 "metadata": {
  "kernelspec": {
   "display_name": "Python 3",
   "language": "python",
   "name": "python3"
  },
  "language_info": {
   "codemirror_mode": {
    "name": "ipython",
    "version": 3
   },
   "file_extension": ".py",
   "mimetype": "text/x-python",
   "name": "python",
   "nbconvert_exporter": "python",
   "pygments_lexer": "ipython3",
   "version": "3.9.1"
  }
 },
 "nbformat": 4,
 "nbformat_minor": 1
}
